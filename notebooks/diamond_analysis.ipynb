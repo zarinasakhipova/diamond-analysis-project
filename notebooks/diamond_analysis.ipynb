{
 "cells": [
  {
   "cell_type": "markdown",
   "id": "7cd023e1-85f6-49e1-a3fb-582f7c640417",
   "metadata": {},
   "source": [
    "# Consulting Case: Recommending the Best Diamonds for Greg"
   ]
  },
  {
   "cell_type": "markdown",
   "id": "c39473d3-992c-4d60-aa1d-300e59293c5b",
   "metadata": {},
   "source": [
    "### Objective:\n",
    "To provide Greg with recommendations for choosing a diamond for Sarah, based on the best possible balance between price and quality. The project follows an analytical approach involving machine learning methods and step-by-step analysis to identify the most valuable diamonds."
   ]
  },
  {
   "cell_type": "markdown",
   "id": "13b0dcbc-df11-49e3-a395-d65f8c9701b5",
   "metadata": {},
   "source": [
    "### Key Steps:\n",
    "1. Data loading and preprocessing:\n",
    "- Loaded data for ~6000 diamonds from an Excel file.\n",
    "- Performed basic cleaning and preparation, including converting categorical features (e.g., Cut, Color, Clarity) into numerical format using LabelEncoder.\n",
    "\n",
    "2. Categorical feature encoding:\n",
    "- Converted text-based categorical columns into numerical format for model compatibility.\n",
    "\n",
    "3. Data splitting:\n",
    "- Split the dataset into training and testing sets using train_test_split (80% train / 20% test).\n",
    "\n",
    "4. Feature scaling: \n",
    "- Applied StandardScaler to normalize feature values and handle differences in scale.\n",
    "\n",
    "5. Model training:\n",
    "- Trained a RandomForestRegressor model to predict diamond prices.\n",
    "- Used GridSearchCV for hyperparameter tuning (e.g., n_estimators=150, max_depth=20) to improve performance.\n",
    "\n",
    "6. Model evaluation:\n",
    "- Assessed performance using:\n",
    "MAE (Mean Absolute Error) — measures how close predictions are to actual prices.\n",
    "R² Score (Coefficient of Determination) — reflects how well the model explains price variance.\n",
    "Cross-validation used with GridSearchCV for robustness.\n",
    "\n",
    "7. Generating predictions and recommendations:\n",
    "- Used the best model from grid search to predict prices.\n",
    "- Added predicted prices and calculated a new metric: Price per Carat.\n",
    "- Applied filters (e.g., budget ≤ $3000, preferred cut) to generate recommendations.\n",
    "- Identified Top 5 diamonds with the best price-to-carat ratio.\n",
    "\n",
    "8. Result visualization:\n",
    "- Created a feature importance plot to show which attributes (e.g., Carat Weight) most influence price.\n",
    "- Plotted price distribution for all diamonds vs. recommended ones on a single graph.\n",
    "\n",
    "9. Exporting final results:\n",
    "- Exported the full dataset with predictions and recommendations to a multi-sheet Excel file: diamond_analysis_report.xlsx, including:\n",
    "Filtered (Min $3000) — Diamonds filtered by budget.\n",
    "Top 5 (Min $3000) — Top 5 filtered diamonds.\n",
    "Filtered (No Min Budget) — Full data without budget filter.\n",
    "Top 5 (No Min Budget) — Top 5 diamonds from unfiltered list.\n",
    "\n",
    "Also exported final recommendations as a CSV file: top_5_diamonds.csv."
   ]
  },
  {
   "cell_type": "code",
   "execution_count": 1,
   "id": "e1dd8efd-5c0f-4544-be13-50dbc078981a",
   "metadata": {},
   "outputs": [],
   "source": [
    "import pandas as pd\n",
    "from sklearn.model_selection import train_test_split, GridSearchCV\n",
    "from sklearn.ensemble import RandomForestRegressor\n",
    "from sklearn.preprocessing import StandardScaler, LabelEncoder\n",
    "from sklearn.metrics import mean_absolute_error, r2_score\n",
    "import matplotlib.pyplot as plt\n",
    "import seaborn as sns"
   ]
  },
  {
   "cell_type": "code",
   "execution_count": 2,
   "id": "6ca0f8fc-3ba9-438f-b44c-864de47f2fdd",
   "metadata": {},
   "outputs": [],
   "source": [
    "# Step 1: Load the data\n",
    "raw_data = pd.read_excel('./data.xlsx', sheet_name='Raw Data')"
   ]
  },
  {
   "cell_type": "code",
   "execution_count": 3,
   "id": "bbfa0586-1a6d-4be6-9101-3c5fd1ecca35",
   "metadata": {},
   "outputs": [],
   "source": [
    "# Step 2: Encode Categorical Variables\n",
    "categorical_columns = ['Cut', 'Color', 'Clarity', 'Polish', 'Symmetry', 'Report']\n",
    "label_encoders = {}\n",
    "for col in categorical_columns:\n",
    "    le = LabelEncoder()\n",
    "    raw_data[col] = le.fit_transform(raw_data[col])\n",
    "    label_encoders[col] = le"
   ]
  },
  {
   "cell_type": "code",
   "execution_count": 4,
   "id": "d9a248de-f290-43d8-bf0c-9596d438ae47",
   "metadata": {},
   "outputs": [],
   "source": [
    "# Step 3: Splitting Data\n",
    "X = raw_data.drop(columns=['ID', 'Price'])\n",
    "y = raw_data['Price']\n",
    "X_train, X_test, y_train, y_test = train_test_split(X, y, test_size=0.2, random_state=42)"
   ]
  },
  {
   "cell_type": "code",
   "execution_count": 5,
   "id": "b17f2cc1-96ca-4a49-a655-077e817e8c87",
   "metadata": {},
   "outputs": [],
   "source": [
    "# Step 4: Scaling Features\n",
    "scaler = StandardScaler()\n",
    "X_train_scaled = pd.DataFrame(scaler.fit_transform(X_train), columns=X_train.columns)\n",
    "X_test_scaled = pd.DataFrame(scaler.transform(X_test), columns=X_test.columns)"
   ]
  },
  {
   "cell_type": "code",
   "execution_count": 6,
   "id": "64311d58-8f52-4a42-97fe-144d304f13db",
   "metadata": {},
   "outputs": [
    {
     "name": "stdout",
     "output_type": "stream",
     "text": [
      "Best parameters from GridSearchCV: {'max_depth': 20, 'min_samples_split': 2, 'n_estimators': 150}\n",
      "Best score from GridSearchCV: -753.7033161482008\n"
     ]
    }
   ],
   "source": [
    "# Step 5: Initialize the Random Forest Regressor\n",
    "model = RandomForestRegressor(random_state=42)\n",
    "\n",
    "# Step 6: Hyperparameter Tuning using GridSearchCV\n",
    "param_grid = {\n",
    "    'n_estimators': [100, 150],  # Уменьшите количество деревьев\n",
    "    'max_depth': [10, 20],        # Уменьшите максимальную глубину\n",
    "    'min_samples_split': [2, 5],   # Уменьшите минимальное количество образцов для разбиения\n",
    "}\n",
    "\n",
    "# Инициализация GridSearchCV с использованием 2 ядер вместо всех (n_jobs=2)\n",
    "grid_search = GridSearchCV(estimator=model, param_grid=param_grid, cv=5, scoring='neg_mean_absolute_error', n_jobs=2)\n",
    "grid_search.fit(X_train_scaled, y_train)\n",
    "\n",
    "# Вывод лучших параметров и результата\n",
    "print(\"Best parameters from GridSearchCV:\", grid_search.best_params_)\n",
    "print(\"Best score from GridSearchCV:\", grid_search.best_score_)"
   ]
  },
  {
   "cell_type": "code",
   "execution_count": 7,
   "id": "e6428a75-8411-4540-83f8-555b5996d3cd",
   "metadata": {},
   "outputs": [
    {
     "name": "stdout",
     "output_type": "stream",
     "text": [
      "Mean Absolute Error (MAE): 666.1801953412789\n",
      "R² Score: 0.9853740221179613\n"
     ]
    }
   ],
   "source": [
    "# Step 7: Evaluate the Model with the Best Hyperparameters (GridSearchCV)\n",
    "best_model = grid_search.best_estimator_\n",
    "\n",
    "# Прогнозирование с лучшей моделью\n",
    "y_pred = best_model.predict(X_test_scaled)\n",
    "mae = mean_absolute_error(y_test, y_pred)\n",
    "r2 = r2_score(y_test, y_pred)\n",
    "\n",
    "# Вывод метрик качества модели\n",
    "print(f\"Mean Absolute Error (MAE): {mae}\")\n",
    "print(f\"R² Score: {r2}\")"
   ]
  },
  {
   "cell_type": "code",
   "execution_count": 8,
   "id": "26d3cb55-5e0b-454d-970b-57c8c7b498bc",
   "metadata": {},
   "outputs": [
    {
     "name": "stdout",
     "output_type": "stream",
     "text": [
      "Top 5 Recommended Diamonds:\n",
      "        ID  Carat Weight  Cut  Color  Clarity  Polish  Symmetry  Report  Price  Predicted Price  Price per Carat\n",
      "4313  4314          0.80    1      3        2       3         1       1   2662      2772.566540      3465.708175\n",
      "3858  3859          0.80    1      3        2       3         1       1   2810      2772.566540      3465.708175\n",
      "904    905          0.85    1      3        2       3         3       1   2905      2959.059365      3481.246312\n",
      "2590  2591          0.85    1      3        2       3         3       1   2945      2959.059365      3481.246312\n",
      "3635  3636          0.84    1      3        2       3         1       1   2872      2926.206667      3483.579365\n"
     ]
    }
   ],
   "source": [
    "# Step 8: Add predictions to the dataset\n",
    "# Добавление предсказанных цен в исходные данные\n",
    "raw_data['Predicted Price'] = best_model.predict(pd.DataFrame(scaler.transform(X), columns=X.columns))\n",
    "raw_data['Price per Carat'] = raw_data['Predicted Price'] / raw_data['Carat Weight']\n",
    "\n",
    "# Step 9: Filter and Recommend Top Diamonds\n",
    "filtered_data_min_budget = raw_data[\n",
    "    (raw_data['Price'] <= 3000) &  # Выбираются бриллианты с ценой до $3000\n",
    "    (raw_data['Carat Weight'] <= 1.0) &  # Выбираются бриллианты с весом до 1 карата\n",
    "    (raw_data['Cut'].isin([2, 1, 0])) &  # Огранка должна быть \"Очень хорошая\" (2), \"Идеальная\" (1) или \"Безупречно идеальная\" (0)\n",
    "    (raw_data['Clarity'].isin([0, 1, 2, 3])) &  # Чистота бриллианта должна быть от FL (0) до VS2 (3)\n",
    "    (raw_data['Color'].isin([0, 1, 2, 3]))  # Цвет бриллианта должен быть от D (0) до G (3)\n",
    "]\n",
    "filtered_data_min_budget = filtered_data_min_budget.sort_values(by='Price per Carat', ascending=True)\n",
    "\n",
    "# Сценарий без минимального бюджета\n",
    "filtered_data_no_min_budget = raw_data[\n",
    "    (raw_data['Carat Weight'] <= 1.0) &  # Выбираются бриллианты с весом до 1 карата\n",
    "    (raw_data['Cut'].isin([2, 1, 0])) &  # Огранка должна быть \"Очень хорошая\" (2), \"Идеальная\" (1) или \"Безупречно идеальная\" (0)\n",
    "    (raw_data['Clarity'].isin([0, 1, 2, 3])) &  # Чистота бриллианта должна быть от FL (0) до VS2 (3)\n",
    "    (raw_data['Color'].isin([0, 1, 2, 3]))  # Цвет бриллианта должен быть от D (0) до G (3)\n",
    "]\n",
    "filtered_data_no_min_budget = filtered_data_no_min_budget.sort_values(by='Price per Carat', ascending=True)\n",
    "\n",
    "# Сортировка по цене на карат и выбор топ-5\n",
    "top_5_diamonds = filtered_data_min_budget.sort_values(by='Price per Carat', ascending=True).head(5)\n",
    "\n",
    "print(\"Top 5 Recommended Diamonds:\")\n",
    "pd.set_option('display.width', 1000) \n",
    "pd.set_option('display.max_columns', None)\n",
    "print(top_5_diamonds)\n",
    "\n",
    "# Сохраняем топ-5 бриллиантов в CSV файл с нужными колонками\n",
    "top_5_diamonds[['ID', 'Carat Weight', 'Cut', 'Color', 'Clarity', 'Price', 'Price per Carat']].to_csv(\n",
    "    'top_5_diamonds.csv', index=False, sep=';', encoding='utf-8-sig'\n",
    ")"
   ]
  },
  {
   "cell_type": "code",
   "execution_count": 9,
   "id": "f600d7cf-45f5-4d8b-a4f4-d2e92ad66203",
   "metadata": {},
   "outputs": [
    {
     "data": {
      "image/png": "[encoded data removed]",
      "text/plain": [
       "<Figure size 640x480 with 1 Axes>"
      ]
     },
     "metadata": {},
     "output_type": "display_data"
    }
   ],
   "source": [
    "# Step 10: Feature Importance Visualization\n",
    "# График важности признаков\n",
    "feature_importances = best_model.feature_importances_\n",
    "plt.barh(X_train.columns, feature_importances)\n",
    "plt.title('Feature Importance')\n",
    "plt.xlabel('Importance')\n",
    "plt.ylabel('Feature')\n",
    "plt.show()"
   ]
  },
  {
   "cell_type": "code",
   "execution_count": 10,
   "id": "b063f409-cc89-4796-a6e0-68952ab2152d",
   "metadata": {},
   "outputs": [
    {
     "data": {
      "image/png": "[encoded data removed]",
      "text/plain": [
       "<Figure size 1000x600 with 1 Axes>"
      ]
     },
     "metadata": {},
     "output_type": "display_data"
    }
   ],
   "source": [
    "# Step 11: Price Distribution Visualization\n",
    "# Визуализация распределения цен\n",
    "plt.figure(figsize=(10, 6))\n",
    "sns.histplot(raw_data['Price'], bins=30, kde=True, color='blue', alpha=0.5, label='All Diamonds')\n",
    "sns.histplot(top_5_diamonds['Price'], bins=30, kde=True, color='orange', alpha=1.0, label='Recommended Diamonds')\n",
    "plt.scatter(top_5_diamonds['Price'], [0] * len(top_5_diamonds), \n",
    "            color='orange', label='Recommended Diamonds', marker='x', s=100)\n",
    "plt.legend()\n",
    "plt.title('Price Distribution of Diamonds')\n",
    "plt.xlabel('Price')\n",
    "plt.ylabel('Frequency')\n",
    "plt.show()"
   ]
  },
  {
   "cell_type": "code",
   "execution_count": 11,
   "id": "37720fbe-f501-4ffa-bc86-77a53e9ad079",
   "metadata": {},
   "outputs": [
    {
     "name": "stdout",
     "output_type": "stream",
     "text": [
      "Report successfully saved to 'diamond_analysis_report.xlsx'\n"
     ]
    }
   ],
   "source": [
    "# Step 12: Save full report to Excel\n",
    "with pd.ExcelWriter('data/diamond_analysis_report.xlsx') as writer:\n",
    "    # Сохранение полного набора данных\n",
    "    raw_data.to_excel(writer, sheet_name='Full Data', index=False)\n",
    "\n",
    "    # Сохранение фильтрованных данных с минимальным бюджетом\n",
    "    filtered_data_min_budget.to_excel(writer, sheet_name='Filtered (Min $3000)', index=False)\n",
    "    \n",
    "    # Сохранение топ-5 рекомендаций с минимальным бюджетом\n",
    "    top_5_diamonds.to_excel(writer, sheet_name='Top 5 (Min $3000)', index=False)\n",
    "    \n",
    "    # Сохранение фильтрованных данных без минимального бюджета\n",
    "    filtered_data_no_min_budget.to_excel(writer, sheet_name='Filtered (No Min Budget)', index=False)\n",
    "    \n",
    "    # Сохранение топ-5 рекомендаций без минимального бюджета\n",
    "    top_5_no_min_budget = filtered_data_no_min_budget.sort_values(by='Price per Carat', ascending=True).head(5)\n",
    "    top_5_no_min_budget.to_excel(writer, sheet_name='Top 5 (No Min Budget)', index=False)\n",
    "\n",
    "print(\"Report successfully saved to 'diamond_analysis_report.xlsx'\")"
   ]
  },
  {
   "cell_type": "code",
   "execution_count": 12,
   "id": "6f2f5bb5-e1bb-4b54-87a2-444843db410d",
   "metadata": {},
   "outputs": [
    {
     "name": "stdout",
     "output_type": "stream",
     "text": [
      "Top 5 Recommended Diamonds:\n",
      "        ID  Carat Weight  Cut  Color  Clarity  Polish  Symmetry  Report  Price  Predicted Price  Price per Carat\n",
      "4313  4314          0.80    1      3        2       3         1       1   2662      2772.566540      3465.708175\n",
      "3858  3859          0.80    1      3        2       3         1       1   2810      2772.566540      3465.708175\n",
      "904    905          0.85    1      3        2       3         3       1   2905      2959.059365      3481.246312\n",
      "2590  2591          0.85    1      3        2       3         3       1   2945      2959.059365      3481.246312\n",
      "3635  3636          0.84    1      3        2       3         1       1   2872      2926.206667      3483.579365\n"
     ]
    }
   ],
   "source": [
    "print(\"Top 5 Recommended Diamonds:\")\n",
    "pd.set_option('display.width', 1000) \n",
    "pd.set_option('display.max_columns', None)\n",
    "print(top_5_diamonds)"
   ]
  },
  {
   "cell_type": "markdown",
   "id": "446f2930-489e-41b8-ba42-149b2b464b17",
   "metadata": {},
   "source": [
    "### Final Report Summary\n",
    "\n",
    "**Objective:**\n",
    "To help Greg choose the best diamond for an engagement ring that fits within his $3000 budget and matches his preferences for key diamond features.\n",
    "\n",
    "**Key Results:**\n",
    "\n",
    "**Model Performance:**\n",
    "- Mean Absolute Error (MAE): 666.18\n",
    "- ² Score: 98.5%\n",
    "\n",
    "The model achieved high accuracy in predicting diamond prices, enabling confident recommendations with an optimal price-to-quality ratio.\n",
    "\n",
    "**Best Model Parameters:**\n",
    "- n_estimators: 150\n",
    "- max_depth: 20\n",
    "- min_samples_split: 2\n",
    "\n",
    "**Top-5 Diamond Recommendations** \n",
    "Recommendations were based on the lowest price-per-carat ratio among diamonds that met both the budget and feature preferences.\n",
    "All diamonds in the top-5 list satisfy the following conditions:\n",
    "- Price ≤ $3000\n",
    "- Carat weight ≤ 1.0\n",
    "- Cut quality: \"Very Good\" or \"Ideal\""
   ]
  },
  {
   "cell_type": "markdown",
   "id": "efb458da-5b28-4e77-801d-4f2f50e9598a",
   "metadata": {},
   "source": [
    "**Feature Importance:**\n",
    "- Carat Weight: the most influential factor in determining a diamond's price.\n",
    "- Clarity and Color also impact pricing but to a lesser degree.\n",
    "\n",
    "**Price Distribution:**\n",
    "A distribution plot was created comparing all diamonds to the recommended ones. The plot shows that the selected recommendations are near the upper boundary of the client's budget.\n",
    "\n",
    "All results and recommendations were saved to an Excel report with the following sheets:\n",
    "- Full Data: Complete dataset with predictions\n",
    "- Filtered (Min $3000): Diamonds under $3000\n",
    "- Top 5 (Min $3000): Top 5 budget-friendly diamonds\n",
    "- Filtered (No Min Budget): Full data without budget filtering\n",
    "- Top 5 (No Min Budget): Best diamonds by value without budget filter\n",
    "\n",
    "Final recommendations were also exported as a CSV file: top_5_diamonds.csv.\n",
    "\n"
   ]
  }
 ],
 "metadata": {
  "kernelspec": {
   "display_name": "Python 3 (ipykernel)",
   "language": "python",
   "name": "python3"
  },
  "language_info": {
   "codemirror_mode": {
    "name": "ipython",
    "version": 3
   },
   "file_extension": ".py",
   "mimetype": "text/x-python",
   "name": "python",
   "nbconvert_exporter": "python",
   "pygments_lexer": "ipython3",
   "version": "3.11.7"
  }
 },
 "nbformat": 4,
 "nbformat_minor": 5
}
